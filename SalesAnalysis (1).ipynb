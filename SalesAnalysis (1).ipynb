{
 "cells": [
  {
   "cell_type": "code",
   "execution_count": 1,
   "id": "9671aa14-22fa-4044-b07e-e4fb9d943579",
   "metadata": {},
   "outputs": [],
   "source": [
    "import matplotlib.pyplot as plt\n",
    "import pandas as pd\n",
    "import os"
   ]
  },
  {
   "cell_type": "code",
   "execution_count": 2,
   "id": "626f74ac-24cc-46e6-ac99-ba5de1338b8f",
   "metadata": {},
   "outputs": [],
   "source": [
    "# Folder path\n",
    "folder = \"E:/Sales_Data\"\n"
   ]
  },
  {
   "cell_type": "code",
   "execution_count": null,
   "id": "25261d94-d8ae-4af6-94ed-93ee458f9560",
   "metadata": {},
   "outputs": [],
   "source": []
  },
  {
   "cell_type": "code",
   "execution_count": 3,
   "id": "8549c4e1-2f61-4c9d-9af5-c984b9560459",
   "metadata": {},
   "outputs": [],
   "source": [
    "df = pd.read_csv(\"E:/Sales_Data/Sales_April_2019.csv\")\n",
    "\n",
    "# List all files in folder\n",
    "files = [file for file in os.listdir(folder) if file.endswith('.csv')]\n",
    "\n",
    "# Empty DataFrame\n",
    "twelve_months_data = pd.DataFrame()\n",
    "\n",
    "# Loop through files and combine\n",
    "for file in files:\n",
    "    df = pd.read_csv(os.path.join(folder, file))   # join path + filename safely\n",
    "    twelve_months_data = pd.concat([twelve_months_data, df], ignore_index=True)\n",
    "\n",
    "# Save combined CSV\n",
    "twelve_months_data.to_csv(\"E:/Sales_Data/twelve_months_data.csv\", index=False)"
   ]
  },
  {
   "cell_type": "code",
   "execution_count": 4,
   "id": "a5fb9aae-37d9-4f4b-b563-7728e39259ce",
   "metadata": {},
   "outputs": [
    {
     "data": {
      "text/html": [
       "<div>\n",
       "<style scoped>\n",
       "    .dataframe tbody tr th:only-of-type {\n",
       "        vertical-align: middle;\n",
       "    }\n",
       "\n",
       "    .dataframe tbody tr th {\n",
       "        vertical-align: top;\n",
       "    }\n",
       "\n",
       "    .dataframe thead th {\n",
       "        text-align: right;\n",
       "    }\n",
       "</style>\n",
       "<table border=\"1\" class=\"dataframe\">\n",
       "  <thead>\n",
       "    <tr style=\"text-align: right;\">\n",
       "      <th></th>\n",
       "      <th>Order ID</th>\n",
       "      <th>Product</th>\n",
       "      <th>Quantity Ordered</th>\n",
       "      <th>Price Each</th>\n",
       "      <th>Order Date</th>\n",
       "      <th>Purchase Address</th>\n",
       "    </tr>\n",
       "  </thead>\n",
       "  <tbody>\n",
       "    <tr>\n",
       "      <th>0</th>\n",
       "      <td>176558</td>\n",
       "      <td>USB-C Charging Cable</td>\n",
       "      <td>2</td>\n",
       "      <td>11.95</td>\n",
       "      <td>04/19/19 08:46</td>\n",
       "      <td>917 1st St, Dallas, TX 75001</td>\n",
       "    </tr>\n",
       "    <tr>\n",
       "      <th>1</th>\n",
       "      <td>NaN</td>\n",
       "      <td>NaN</td>\n",
       "      <td>NaN</td>\n",
       "      <td>NaN</td>\n",
       "      <td>NaN</td>\n",
       "      <td>NaN</td>\n",
       "    </tr>\n",
       "    <tr>\n",
       "      <th>2</th>\n",
       "      <td>176559</td>\n",
       "      <td>Bose SoundSport Headphones</td>\n",
       "      <td>1</td>\n",
       "      <td>99.99</td>\n",
       "      <td>04/07/19 22:30</td>\n",
       "      <td>682 Chestnut St, Boston, MA 02215</td>\n",
       "    </tr>\n",
       "    <tr>\n",
       "      <th>3</th>\n",
       "      <td>176560</td>\n",
       "      <td>Google Phone</td>\n",
       "      <td>1</td>\n",
       "      <td>600</td>\n",
       "      <td>04/12/19 14:38</td>\n",
       "      <td>669 Spruce St, Los Angeles, CA 90001</td>\n",
       "    </tr>\n",
       "    <tr>\n",
       "      <th>4</th>\n",
       "      <td>176560</td>\n",
       "      <td>Wired Headphones</td>\n",
       "      <td>1</td>\n",
       "      <td>11.99</td>\n",
       "      <td>04/12/19 14:38</td>\n",
       "      <td>669 Spruce St, Los Angeles, CA 90001</td>\n",
       "    </tr>\n",
       "  </tbody>\n",
       "</table>\n",
       "</div>"
      ],
      "text/plain": [
       "  Order ID                     Product Quantity Ordered Price Each  \\\n",
       "0   176558        USB-C Charging Cable                2      11.95   \n",
       "1      NaN                         NaN              NaN        NaN   \n",
       "2   176559  Bose SoundSport Headphones                1      99.99   \n",
       "3   176560                Google Phone                1        600   \n",
       "4   176560            Wired Headphones                1      11.99   \n",
       "\n",
       "       Order Date                      Purchase Address  \n",
       "0  04/19/19 08:46          917 1st St, Dallas, TX 75001  \n",
       "1             NaN                                   NaN  \n",
       "2  04/07/19 22:30     682 Chestnut St, Boston, MA 02215  \n",
       "3  04/12/19 14:38  669 Spruce St, Los Angeles, CA 90001  \n",
       "4  04/12/19 14:38  669 Spruce St, Los Angeles, CA 90001  "
      ]
     },
     "execution_count": 4,
     "metadata": {},
     "output_type": "execute_result"
    }
   ],
   "source": [
    "# Read the combined CSV\n",
    "\n",
    "all_data = pd.read_csv(\"E:/Sales_Data/twelve_months_data.csv\")\n",
    "all_data.head()"
   ]
  },
  {
   "cell_type": "code",
   "execution_count": 5,
   "id": "df0c3de6-cfd5-49f5-9846-0ad4f36a2001",
   "metadata": {
    "scrolled": true
   },
   "outputs": [],
   "source": [
    "### Deleting NAN rows"
   ]
  },
  {
   "cell_type": "code",
   "execution_count": 6,
   "id": "9dc49a12-9490-41f5-8b03-8bf59c464e06",
   "metadata": {},
   "outputs": [
    {
     "data": {
      "text/html": [
       "<div>\n",
       "<style scoped>\n",
       "    .dataframe tbody tr th:only-of-type {\n",
       "        vertical-align: middle;\n",
       "    }\n",
       "\n",
       "    .dataframe tbody tr th {\n",
       "        vertical-align: top;\n",
       "    }\n",
       "\n",
       "    .dataframe thead th {\n",
       "        text-align: right;\n",
       "    }\n",
       "</style>\n",
       "<table border=\"1\" class=\"dataframe\">\n",
       "  <thead>\n",
       "    <tr style=\"text-align: right;\">\n",
       "      <th></th>\n",
       "      <th>Order ID</th>\n",
       "      <th>Product</th>\n",
       "      <th>Quantity Ordered</th>\n",
       "      <th>Price Each</th>\n",
       "      <th>Order Date</th>\n",
       "      <th>Purchase Address</th>\n",
       "    </tr>\n",
       "  </thead>\n",
       "  <tbody>\n",
       "    <tr>\n",
       "      <th>0</th>\n",
       "      <td>176558</td>\n",
       "      <td>USB-C Charging Cable</td>\n",
       "      <td>2</td>\n",
       "      <td>11.95</td>\n",
       "      <td>04/19/19 08:46</td>\n",
       "      <td>917 1st St, Dallas, TX 75001</td>\n",
       "    </tr>\n",
       "    <tr>\n",
       "      <th>2</th>\n",
       "      <td>176559</td>\n",
       "      <td>Bose SoundSport Headphones</td>\n",
       "      <td>1</td>\n",
       "      <td>99.99</td>\n",
       "      <td>04/07/19 22:30</td>\n",
       "      <td>682 Chestnut St, Boston, MA 02215</td>\n",
       "    </tr>\n",
       "    <tr>\n",
       "      <th>3</th>\n",
       "      <td>176560</td>\n",
       "      <td>Google Phone</td>\n",
       "      <td>1</td>\n",
       "      <td>600</td>\n",
       "      <td>04/12/19 14:38</td>\n",
       "      <td>669 Spruce St, Los Angeles, CA 90001</td>\n",
       "    </tr>\n",
       "    <tr>\n",
       "      <th>4</th>\n",
       "      <td>176560</td>\n",
       "      <td>Wired Headphones</td>\n",
       "      <td>1</td>\n",
       "      <td>11.99</td>\n",
       "      <td>04/12/19 14:38</td>\n",
       "      <td>669 Spruce St, Los Angeles, CA 90001</td>\n",
       "    </tr>\n",
       "    <tr>\n",
       "      <th>5</th>\n",
       "      <td>176561</td>\n",
       "      <td>Wired Headphones</td>\n",
       "      <td>1</td>\n",
       "      <td>11.99</td>\n",
       "      <td>04/30/19 09:27</td>\n",
       "      <td>333 8th St, Los Angeles, CA 90001</td>\n",
       "    </tr>\n",
       "    <tr>\n",
       "      <th>...</th>\n",
       "      <td>...</td>\n",
       "      <td>...</td>\n",
       "      <td>...</td>\n",
       "      <td>...</td>\n",
       "      <td>...</td>\n",
       "      <td>...</td>\n",
       "    </tr>\n",
       "    <tr>\n",
       "      <th>96</th>\n",
       "      <td>176649</td>\n",
       "      <td>USB-C Charging Cable</td>\n",
       "      <td>1</td>\n",
       "      <td>11.95</td>\n",
       "      <td>04/09/19 08:49</td>\n",
       "      <td>702 11th St, San Francisco, CA 94016</td>\n",
       "    </tr>\n",
       "    <tr>\n",
       "      <th>97</th>\n",
       "      <td>176650</td>\n",
       "      <td>Lightning Charging Cable</td>\n",
       "      <td>1</td>\n",
       "      <td>14.95</td>\n",
       "      <td>04/12/19 16:47</td>\n",
       "      <td>153 River St, Boston, MA 02215</td>\n",
       "    </tr>\n",
       "    <tr>\n",
       "      <th>98</th>\n",
       "      <td>176651</td>\n",
       "      <td>iPhone</td>\n",
       "      <td>1</td>\n",
       "      <td>700</td>\n",
       "      <td>04/07/19 13:14</td>\n",
       "      <td>997 South St, Boston, MA 02215</td>\n",
       "    </tr>\n",
       "    <tr>\n",
       "      <th>99</th>\n",
       "      <td>176652</td>\n",
       "      <td>LG Washing Machine</td>\n",
       "      <td>1</td>\n",
       "      <td>600.0</td>\n",
       "      <td>04/09/19 20:04</td>\n",
       "      <td>502 14th St, New York City, NY 10001</td>\n",
       "    </tr>\n",
       "    <tr>\n",
       "      <th>100</th>\n",
       "      <td>176653</td>\n",
       "      <td>AA Batteries (4-pack)</td>\n",
       "      <td>1</td>\n",
       "      <td>3.84</td>\n",
       "      <td>04/26/19 19:20</td>\n",
       "      <td>285 Chestnut St, San Francisco, CA 94016</td>\n",
       "    </tr>\n",
       "  </tbody>\n",
       "</table>\n",
       "<p>100 rows × 6 columns</p>\n",
       "</div>"
      ],
      "text/plain": [
       "    Order ID                     Product Quantity Ordered Price Each  \\\n",
       "0     176558        USB-C Charging Cable                2      11.95   \n",
       "2     176559  Bose SoundSport Headphones                1      99.99   \n",
       "3     176560                Google Phone                1        600   \n",
       "4     176560            Wired Headphones                1      11.99   \n",
       "5     176561            Wired Headphones                1      11.99   \n",
       "..       ...                         ...              ...        ...   \n",
       "96    176649        USB-C Charging Cable                1      11.95   \n",
       "97    176650    Lightning Charging Cable                1      14.95   \n",
       "98    176651                      iPhone                1        700   \n",
       "99    176652          LG Washing Machine                1      600.0   \n",
       "100   176653       AA Batteries (4-pack)                1       3.84   \n",
       "\n",
       "         Order Date                          Purchase Address  \n",
       "0    04/19/19 08:46              917 1st St, Dallas, TX 75001  \n",
       "2    04/07/19 22:30         682 Chestnut St, Boston, MA 02215  \n",
       "3    04/12/19 14:38      669 Spruce St, Los Angeles, CA 90001  \n",
       "4    04/12/19 14:38      669 Spruce St, Los Angeles, CA 90001  \n",
       "5    04/30/19 09:27         333 8th St, Los Angeles, CA 90001  \n",
       "..              ...                                       ...  \n",
       "96   04/09/19 08:49      702 11th St, San Francisco, CA 94016  \n",
       "97   04/12/19 16:47            153 River St, Boston, MA 02215  \n",
       "98   04/07/19 13:14            997 South St, Boston, MA 02215  \n",
       "99   04/09/19 20:04      502 14th St, New York City, NY 10001  \n",
       "100  04/26/19 19:20  285 Chestnut St, San Francisco, CA 94016  \n",
       "\n",
       "[100 rows x 6 columns]"
      ]
     },
     "execution_count": 6,
     "metadata": {},
     "output_type": "execute_result"
    }
   ],
   "source": [
    "nan_df=all_data[all_data.isna().any(axis=1)]\n",
    "nan_df.head()\n",
    "\n",
    "\n",
    "all_data=all_data.dropna(how=\"all\")\n",
    "all_data.head(100)"
   ]
  },
  {
   "cell_type": "code",
   "execution_count": 7,
   "id": "dfb55455-f8f0-426e-b321-12ee8bbd56c0",
   "metadata": {},
   "outputs": [
    {
     "name": "stdout",
     "output_type": "stream",
     "text": [
      "No NaN values found.\n",
      "\n"
     ]
    }
   ],
   "source": [
    " # check if any NaN exists in the whole DataFrame\n",
    "\n",
    "if all_data.isna().any().any():  \n",
    "    print(\"NaN values found!\")\n",
    "else:\n",
    "    print(\"No NaN values found.\\n\")\n"
   ]
  },
  {
   "cell_type": "code",
   "execution_count": 8,
   "id": "833a0500-3de7-4784-b5df-1b522a8c1d15",
   "metadata": {},
   "outputs": [
    {
     "data": {
      "text/html": [
       "<div>\n",
       "<style scoped>\n",
       "    .dataframe tbody tr th:only-of-type {\n",
       "        vertical-align: middle;\n",
       "    }\n",
       "\n",
       "    .dataframe tbody tr th {\n",
       "        vertical-align: top;\n",
       "    }\n",
       "\n",
       "    .dataframe thead th {\n",
       "        text-align: right;\n",
       "    }\n",
       "</style>\n",
       "<table border=\"1\" class=\"dataframe\">\n",
       "  <thead>\n",
       "    <tr style=\"text-align: right;\">\n",
       "      <th></th>\n",
       "      <th>Order ID</th>\n",
       "      <th>Product</th>\n",
       "      <th>Quantity Ordered</th>\n",
       "      <th>Price Each</th>\n",
       "      <th>Order Date</th>\n",
       "      <th>Purchase Address</th>\n",
       "    </tr>\n",
       "  </thead>\n",
       "  <tbody>\n",
       "    <tr>\n",
       "      <th>0</th>\n",
       "      <td>176558</td>\n",
       "      <td>USB-C Charging Cable</td>\n",
       "      <td>2</td>\n",
       "      <td>11.95</td>\n",
       "      <td>04/19/19 08:46</td>\n",
       "      <td>917 1st St, Dallas, TX 75001</td>\n",
       "    </tr>\n",
       "    <tr>\n",
       "      <th>2</th>\n",
       "      <td>176559</td>\n",
       "      <td>Bose SoundSport Headphones</td>\n",
       "      <td>1</td>\n",
       "      <td>99.99</td>\n",
       "      <td>04/07/19 22:30</td>\n",
       "      <td>682 Chestnut St, Boston, MA 02215</td>\n",
       "    </tr>\n",
       "    <tr>\n",
       "      <th>3</th>\n",
       "      <td>176560</td>\n",
       "      <td>Google Phone</td>\n",
       "      <td>1</td>\n",
       "      <td>600</td>\n",
       "      <td>04/12/19 14:38</td>\n",
       "      <td>669 Spruce St, Los Angeles, CA 90001</td>\n",
       "    </tr>\n",
       "    <tr>\n",
       "      <th>4</th>\n",
       "      <td>176560</td>\n",
       "      <td>Wired Headphones</td>\n",
       "      <td>1</td>\n",
       "      <td>11.99</td>\n",
       "      <td>04/12/19 14:38</td>\n",
       "      <td>669 Spruce St, Los Angeles, CA 90001</td>\n",
       "    </tr>\n",
       "    <tr>\n",
       "      <th>5</th>\n",
       "      <td>176561</td>\n",
       "      <td>Wired Headphones</td>\n",
       "      <td>1</td>\n",
       "      <td>11.99</td>\n",
       "      <td>04/30/19 09:27</td>\n",
       "      <td>333 8th St, Los Angeles, CA 90001</td>\n",
       "    </tr>\n",
       "  </tbody>\n",
       "</table>\n",
       "</div>"
      ],
      "text/plain": [
       "  Order ID                     Product Quantity Ordered Price Each  \\\n",
       "0   176558        USB-C Charging Cable                2      11.95   \n",
       "2   176559  Bose SoundSport Headphones                1      99.99   \n",
       "3   176560                Google Phone                1        600   \n",
       "4   176560            Wired Headphones                1      11.99   \n",
       "5   176561            Wired Headphones                1      11.99   \n",
       "\n",
       "       Order Date                      Purchase Address  \n",
       "0  04/19/19 08:46          917 1st St, Dallas, TX 75001  \n",
       "2  04/07/19 22:30     682 Chestnut St, Boston, MA 02215  \n",
       "3  04/12/19 14:38  669 Spruce St, Los Angeles, CA 90001  \n",
       "4  04/12/19 14:38  669 Spruce St, Los Angeles, CA 90001  \n",
       "5  04/30/19 09:27     333 8th St, Los Angeles, CA 90001  "
      ]
     },
     "execution_count": 8,
     "metadata": {},
     "output_type": "execute_result"
    }
   ],
   "source": [
    "all_data=all_data[all_data['Order Date'].str[0:2]!='Or']\n",
    "all_data.head()"
   ]
  },
  {
   "cell_type": "code",
   "execution_count": null,
   "id": "3589c63f-229f-4d26-9de5-5929edb0e375",
   "metadata": {},
   "outputs": [],
   "source": []
  },
  {
   "cell_type": "code",
   "execution_count": 9,
   "id": "e0314230-ea69-4ac8-9ade-41565bc58f7d",
   "metadata": {},
   "outputs": [],
   "source": [
    "## Convert columns into correct type"
   ]
  },
  {
   "cell_type": "code",
   "execution_count": 10,
   "id": "3b933f6c-2d9a-429f-a1b6-c64ff8f3c989",
   "metadata": {},
   "outputs": [
    {
     "data": {
      "text/html": [
       "<div>\n",
       "<style scoped>\n",
       "    .dataframe tbody tr th:only-of-type {\n",
       "        vertical-align: middle;\n",
       "    }\n",
       "\n",
       "    .dataframe tbody tr th {\n",
       "        vertical-align: top;\n",
       "    }\n",
       "\n",
       "    .dataframe thead th {\n",
       "        text-align: right;\n",
       "    }\n",
       "</style>\n",
       "<table border=\"1\" class=\"dataframe\">\n",
       "  <thead>\n",
       "    <tr style=\"text-align: right;\">\n",
       "      <th></th>\n",
       "      <th>Order ID</th>\n",
       "      <th>Product</th>\n",
       "      <th>Quantity Ordered</th>\n",
       "      <th>Price Each</th>\n",
       "      <th>Order Date</th>\n",
       "      <th>Purchase Address</th>\n",
       "    </tr>\n",
       "  </thead>\n",
       "  <tbody>\n",
       "    <tr>\n",
       "      <th>0</th>\n",
       "      <td>176558</td>\n",
       "      <td>USB-C Charging Cable</td>\n",
       "      <td>2</td>\n",
       "      <td>11.95</td>\n",
       "      <td>04/19/19 08:46</td>\n",
       "      <td>917 1st St, Dallas, TX 75001</td>\n",
       "    </tr>\n",
       "    <tr>\n",
       "      <th>2</th>\n",
       "      <td>176559</td>\n",
       "      <td>Bose SoundSport Headphones</td>\n",
       "      <td>1</td>\n",
       "      <td>99.99</td>\n",
       "      <td>04/07/19 22:30</td>\n",
       "      <td>682 Chestnut St, Boston, MA 02215</td>\n",
       "    </tr>\n",
       "    <tr>\n",
       "      <th>3</th>\n",
       "      <td>176560</td>\n",
       "      <td>Google Phone</td>\n",
       "      <td>1</td>\n",
       "      <td>600.00</td>\n",
       "      <td>04/12/19 14:38</td>\n",
       "      <td>669 Spruce St, Los Angeles, CA 90001</td>\n",
       "    </tr>\n",
       "    <tr>\n",
       "      <th>4</th>\n",
       "      <td>176560</td>\n",
       "      <td>Wired Headphones</td>\n",
       "      <td>1</td>\n",
       "      <td>11.99</td>\n",
       "      <td>04/12/19 14:38</td>\n",
       "      <td>669 Spruce St, Los Angeles, CA 90001</td>\n",
       "    </tr>\n",
       "    <tr>\n",
       "      <th>5</th>\n",
       "      <td>176561</td>\n",
       "      <td>Wired Headphones</td>\n",
       "      <td>1</td>\n",
       "      <td>11.99</td>\n",
       "      <td>04/30/19 09:27</td>\n",
       "      <td>333 8th St, Los Angeles, CA 90001</td>\n",
       "    </tr>\n",
       "  </tbody>\n",
       "</table>\n",
       "</div>"
      ],
      "text/plain": [
       "  Order ID                     Product  Quantity Ordered  Price Each  \\\n",
       "0   176558        USB-C Charging Cable                 2       11.95   \n",
       "2   176559  Bose SoundSport Headphones                 1       99.99   \n",
       "3   176560                Google Phone                 1      600.00   \n",
       "4   176560            Wired Headphones                 1       11.99   \n",
       "5   176561            Wired Headphones                 1       11.99   \n",
       "\n",
       "       Order Date                      Purchase Address  \n",
       "0  04/19/19 08:46          917 1st St, Dallas, TX 75001  \n",
       "2  04/07/19 22:30     682 Chestnut St, Boston, MA 02215  \n",
       "3  04/12/19 14:38  669 Spruce St, Los Angeles, CA 90001  \n",
       "4  04/12/19 14:38  669 Spruce St, Los Angeles, CA 90001  \n",
       "5  04/30/19 09:27     333 8th St, Los Angeles, CA 90001  "
      ]
     },
     "execution_count": 10,
     "metadata": {},
     "output_type": "execute_result"
    }
   ],
   "source": [
    "all_data['Quantity Ordered']= pd.to_numeric(all_data['Quantity Ordered']) # to int\n",
    "all_data['Price Each']= pd.to_numeric(all_data['Price Each']) # to Float\n",
    "all_data.head()"
   ]
  },
  {
   "cell_type": "code",
   "execution_count": null,
   "id": "1c694de3-1a4f-40b0-a78b-d7eae14a564e",
   "metadata": {},
   "outputs": [],
   "source": []
  },
  {
   "cell_type": "code",
   "execution_count": 11,
   "id": "4ffea9e2-c10f-42b6-a5fa-4060742ce601",
   "metadata": {},
   "outputs": [],
   "source": [
    "## Adding Months Column"
   ]
  },
  {
   "cell_type": "code",
   "execution_count": 12,
   "id": "86bccc12-ca3d-4168-9f8f-62a47e764e4e",
   "metadata": {},
   "outputs": [],
   "source": [
    "all_data['Month'] =all_data['Order Date'].str[0:2]\n",
    "all_data['Month'] =all_data['Month'].astype('int32')\n",
    "#all_data.head(500)"
   ]
  },
  {
   "cell_type": "code",
   "execution_count": null,
   "id": "4be83349-b83c-40ad-82aa-da4fef9e8e2c",
   "metadata": {},
   "outputs": [],
   "source": []
  },
  {
   "cell_type": "code",
   "execution_count": 13,
   "id": "9d128844-73bd-4538-986a-776fb1c1b0a3",
   "metadata": {},
   "outputs": [],
   "source": [
    "#adding Sales column"
   ]
  },
  {
   "cell_type": "code",
   "execution_count": 14,
   "id": "471f7901-8daa-4c8c-a73a-2a95bee235d4",
   "metadata": {},
   "outputs": [],
   "source": [
    "\n",
    "all_data['Sales'] =all_data['Quantity Ordered']* all_data['Price Each']\n",
    "#all_data.head()"
   ]
  },
  {
   "cell_type": "code",
   "execution_count": null,
   "id": "c79613b5-9fce-413e-9a1a-10a919babccb",
   "metadata": {},
   "outputs": [],
   "source": []
  },
  {
   "cell_type": "code",
   "execution_count": null,
   "id": "aa176bb6-1fd8-49eb-a30f-849219fdee18",
   "metadata": {},
   "outputs": [],
   "source": []
  },
  {
   "cell_type": "code",
   "execution_count": 15,
   "id": "794ca269-9af4-4014-8db0-212b4236a260",
   "metadata": {},
   "outputs": [],
   "source": [
    "##Month with higher sales\n"
   ]
  },
  {
   "cell_type": "code",
   "execution_count": 16,
   "id": "e4e1eb15-b6ec-4469-a881-206cd4768531",
   "metadata": {},
   "outputs": [],
   "source": [
    "results = all_data.groupby(\"Month\").sum(numeric_only=True)\n",
    "#print(results.head())\n",
    "#print(results['Sales'])\n",
    "\n",
    "\n"
   ]
  },
  {
   "cell_type": "code",
   "execution_count": 17,
   "id": "869666f6-3093-4d35-88b6-75a69eac4deb",
   "metadata": {},
   "outputs": [
    {
     "data": {
      "image/png": "[encoded data removed]",
      "text/plain": [
       "<Figure size 640x480 with 1 Axes>"
      ]
     },
     "metadata": {},
     "output_type": "display_data"
    }
   ],
   "source": [
    "\n",
    "\n",
    "months = range(1, 13)\n",
    "colors = [\"red\", \"blue\", \"green\", \"purple\", \"orange\", \n",
    "          \"cyan\", \"magenta\", \"yellow\", \"pink\", \"brown\", \"gray\", \"lime\"]\n",
    "\n",
    "plt.bar(months, results['Sales'],color=colors)\n",
    "plt.xticks(months)  # label x-axis with 1-12\n",
    "plt.xlabel(\"Month\")\n",
    "plt.ylabel(\"Total Sales ($)\")\n",
    "plt.title(\"Monthly Sales Performance\")\n",
    "#plt.show()\n",
    "plt.savefig('monthly_sales.png')"
   ]
  },
  {
   "cell_type": "code",
   "execution_count": null,
   "id": "192ac764-8148-46fc-a451-fc04743a3592",
   "metadata": {},
   "outputs": [],
   "source": []
  },
  {
   "cell_type": "code",
   "execution_count": 18,
   "id": "42fb59f4-49c4-44ec-ab0f-fa058639b58a",
   "metadata": {},
   "outputs": [],
   "source": [
    "# city with highest data\n"
   ]
  },
  {
   "cell_type": "code",
   "execution_count": 19,
   "id": "8fb82cac-e086-4de9-a7c3-611f7054de19",
   "metadata": {},
   "outputs": [],
   "source": [
    "#Adding city column"
   ]
  },
  {
   "cell_type": "code",
   "execution_count": 20,
   "id": "3d19ac42-0939-4549-94b6-9398212494ef",
   "metadata": {},
   "outputs": [
    {
     "data": {
      "text/html": [
       "<div>\n",
       "<style scoped>\n",
       "    .dataframe tbody tr th:only-of-type {\n",
       "        vertical-align: middle;\n",
       "    }\n",
       "\n",
       "    .dataframe tbody tr th {\n",
       "        vertical-align: top;\n",
       "    }\n",
       "\n",
       "    .dataframe thead th {\n",
       "        text-align: right;\n",
       "    }\n",
       "</style>\n",
       "<table border=\"1\" class=\"dataframe\">\n",
       "  <thead>\n",
       "    <tr style=\"text-align: right;\">\n",
       "      <th></th>\n",
       "      <th>Order ID</th>\n",
       "      <th>Product</th>\n",
       "      <th>Quantity Ordered</th>\n",
       "      <th>Price Each</th>\n",
       "      <th>Order Date</th>\n",
       "      <th>Purchase Address</th>\n",
       "      <th>Month</th>\n",
       "      <th>Sales</th>\n",
       "      <th>City</th>\n",
       "    </tr>\n",
       "  </thead>\n",
       "  <tbody>\n",
       "    <tr>\n",
       "      <th>0</th>\n",
       "      <td>176558</td>\n",
       "      <td>USB-C Charging Cable</td>\n",
       "      <td>2</td>\n",
       "      <td>11.95</td>\n",
       "      <td>04/19/19 08:46</td>\n",
       "      <td>917 1st St, Dallas, TX 75001</td>\n",
       "      <td>4</td>\n",
       "      <td>23.90</td>\n",
       "      <td>Dallas (TX)</td>\n",
       "    </tr>\n",
       "    <tr>\n",
       "      <th>2</th>\n",
       "      <td>176559</td>\n",
       "      <td>Bose SoundSport Headphones</td>\n",
       "      <td>1</td>\n",
       "      <td>99.99</td>\n",
       "      <td>04/07/19 22:30</td>\n",
       "      <td>682 Chestnut St, Boston, MA 02215</td>\n",
       "      <td>4</td>\n",
       "      <td>99.99</td>\n",
       "      <td>Boston (MA)</td>\n",
       "    </tr>\n",
       "    <tr>\n",
       "      <th>3</th>\n",
       "      <td>176560</td>\n",
       "      <td>Google Phone</td>\n",
       "      <td>1</td>\n",
       "      <td>600.00</td>\n",
       "      <td>04/12/19 14:38</td>\n",
       "      <td>669 Spruce St, Los Angeles, CA 90001</td>\n",
       "      <td>4</td>\n",
       "      <td>600.00</td>\n",
       "      <td>Los Angeles (CA)</td>\n",
       "    </tr>\n",
       "    <tr>\n",
       "      <th>4</th>\n",
       "      <td>176560</td>\n",
       "      <td>Wired Headphones</td>\n",
       "      <td>1</td>\n",
       "      <td>11.99</td>\n",
       "      <td>04/12/19 14:38</td>\n",
       "      <td>669 Spruce St, Los Angeles, CA 90001</td>\n",
       "      <td>4</td>\n",
       "      <td>11.99</td>\n",
       "      <td>Los Angeles (CA)</td>\n",
       "    </tr>\n",
       "    <tr>\n",
       "      <th>5</th>\n",
       "      <td>176561</td>\n",
       "      <td>Wired Headphones</td>\n",
       "      <td>1</td>\n",
       "      <td>11.99</td>\n",
       "      <td>04/30/19 09:27</td>\n",
       "      <td>333 8th St, Los Angeles, CA 90001</td>\n",
       "      <td>4</td>\n",
       "      <td>11.99</td>\n",
       "      <td>Los Angeles (CA)</td>\n",
       "    </tr>\n",
       "  </tbody>\n",
       "</table>\n",
       "</div>"
      ],
      "text/plain": [
       "  Order ID                     Product  Quantity Ordered  Price Each  \\\n",
       "0   176558        USB-C Charging Cable                 2       11.95   \n",
       "2   176559  Bose SoundSport Headphones                 1       99.99   \n",
       "3   176560                Google Phone                 1      600.00   \n",
       "4   176560            Wired Headphones                 1       11.99   \n",
       "5   176561            Wired Headphones                 1       11.99   \n",
       "\n",
       "       Order Date                      Purchase Address  Month   Sales  \\\n",
       "0  04/19/19 08:46          917 1st St, Dallas, TX 75001      4   23.90   \n",
       "2  04/07/19 22:30     682 Chestnut St, Boston, MA 02215      4   99.99   \n",
       "3  04/12/19 14:38  669 Spruce St, Los Angeles, CA 90001      4  600.00   \n",
       "4  04/12/19 14:38  669 Spruce St, Los Angeles, CA 90001      4   11.99   \n",
       "5  04/30/19 09:27     333 8th St, Los Angeles, CA 90001      4   11.99   \n",
       "\n",
       "                City  \n",
       "0        Dallas (TX)  \n",
       "2        Boston (MA)  \n",
       "3   Los Angeles (CA)  \n",
       "4   Los Angeles (CA)  \n",
       "5   Los Angeles (CA)  "
      ]
     },
     "execution_count": 20,
     "metadata": {},
     "output_type": "execute_result"
    }
   ],
   "source": [
    "def get_city(address):\n",
    "    return address.split(',')[1]\n",
    "\n",
    "def get_state(address):\n",
    "    return address.split(',')[2].split(' ')[1]\n",
    "    \n",
    "all_data['City'] = all_data['Purchase Address'].apply(lambda x: f\"{get_city(x)} ({get_state(x)})\")\n",
    "all_data.head()"
   ]
  },
  {
   "cell_type": "code",
   "execution_count": null,
   "id": "e7263a61-a078-4ad0-a751-8bbb122e208f",
   "metadata": {},
   "outputs": [],
   "source": []
  },
  {
   "cell_type": "code",
   "execution_count": 21,
   "id": "d0972564-edc7-449a-a403-266532334b4b",
   "metadata": {},
   "outputs": [],
   "source": [
    "##City with highest sales"
   ]
  },
  {
   "cell_type": "code",
   "execution_count": 22,
   "id": "bbedd882-7703-47c7-af26-42f3ac35e695",
   "metadata": {},
   "outputs": [
    {
     "name": "stdout",
     "output_type": "stream",
     "text": [
      "The city with the highest sales is:\n",
      "                     Quantity Ordered   Price Each    Month        Sales\n",
      "City                                                                   \n",
      "San Francisco (CA)            602868  98537540.88  3786240  99146446.92\n",
      "Los Angeles (CA)              399468  65057222.76  2499900  65430849.60\n",
      "New York City (NY)            335184  55624449.96  2108892  55971809.16\n",
      "Boston (MA)                   270336  43648917.24  1693344  43939704.12\n",
      "Atlanta (GA)                  199224  33358898.40  1257528  33545982.96\n"
     ]
    }
   ],
   "source": [
    "results = all_data.groupby(\"City\").sum(numeric_only=True)\n",
    "highest_sales_city = results.sort_values('Sales', ascending=False)\n",
    "print(\"The city with the highest sales is:\\n\", highest_sales_city.head())\n"
   ]
  },
  {
   "cell_type": "code",
   "execution_count": null,
   "id": "068075a4-d83d-4aa1-8cbe-8fa634f613a2",
   "metadata": {},
   "outputs": [],
   "source": []
  },
  {
   "cell_type": "code",
   "execution_count": 23,
   "id": "3a63a1ca-315e-4b12-a92e-f00cf54c02f8",
   "metadata": {},
   "outputs": [
    {
     "data": {
      "image/png": "[encoded data removed]",
      "text/plain": [
       "<Figure size 640x480 with 1 Axes>"
      ]
     },
     "metadata": {},
     "output_type": "display_data"
    }
   ],
   "source": [
    "\n",
    "cities= [city for city,df in all_data.groupby('City')]\n",
    "colors = [ \"blue\", \"green\", \"purple\", \"orange\", \n",
    "          \"cyan\", \"yellow\", \"red\", \"brown\", \"gray\", \"lime\"]\n",
    "\n",
    "plt.bar(cities, results['Sales'],color=colors)\n",
    "plt.xticks(cities,rotation='vertical' ,size=8)  \n",
    "plt.xlabel(\"City Name\")\n",
    "plt.ylabel(\"Total Sales ($)\")\n",
    "plt.title(\"Sales Performance By City\")\n",
    "plt.show()\n",
    "#plt.savefig('city_by_sales.png')"
   ]
  },
  {
   "cell_type": "code",
   "execution_count": null,
   "id": "1bbea275-b247-4958-aa0c-cebc6ce5ea5a",
   "metadata": {},
   "outputs": [],
   "source": []
  },
  {
   "cell_type": "code",
   "execution_count": null,
   "id": "623e8ab3-8d59-49ba-afac-31825bab57fe",
   "metadata": {},
   "outputs": [],
   "source": []
  },
  {
   "cell_type": "code",
   "execution_count": 24,
   "id": "d252492b-443d-4f48-90a1-0975f28d8300",
   "metadata": {},
   "outputs": [],
   "source": [
    "#Adding Hour & Minute column"
   ]
  },
  {
   "cell_type": "code",
   "execution_count": null,
   "id": "aa01bacb-deaa-4f8f-ac27-c21d2a08b217",
   "metadata": {},
   "outputs": [],
   "source": []
  },
  {
   "cell_type": "code",
   "execution_count": 25,
   "id": "ecf62399-7620-4b2b-b16d-ac60cb39f1f1",
   "metadata": {},
   "outputs": [],
   "source": [
    "# Replace dashes with slashes for consistency\n",
    "all_data['Order Date'] = all_data['Order Date'].str.replace('-', '/', regex=False)\n",
    "\n",
    "# Now parse with a fixed format\n",
    "all_data['Order Date'] = pd.to_datetime(all_data['Order Date'], format='%d/%m/%Y %H:%M', errors='coerce')\n"
   ]
  },
  {
   "cell_type": "code",
   "execution_count": 27,
   "id": "8ad5b922-375b-4937-9291-593d79184910",
   "metadata": {},
   "outputs": [],
   "source": [
    "all_data['Hour'] = all_data['Order Date'].dt.hour\n",
    "all_data['Minutes'] = all_data['Order Date'].dt.minute\n",
    "#all_data.head()"
   ]
  },
  {
   "cell_type": "code",
   "execution_count": null,
   "id": "d5acedb4-7616-4799-b899-32d970c05714",
   "metadata": {},
   "outputs": [],
   "source": []
  },
  {
   "cell_type": "code",
   "execution_count": 32,
   "id": "826e5bfc-a621-4849-af31-7636416ee2f1",
   "metadata": {},
   "outputs": [],
   "source": [
    "##\"Customer Purchase Behavior by Hour\""
   ]
  },
  {
   "cell_type": "code",
   "execution_count": null,
   "id": "f5c6c481-1754-44c9-8b23-5ce73111affa",
   "metadata": {},
   "outputs": [],
   "source": []
  },
  {
   "cell_type": "code",
   "execution_count": 33,
   "id": "495bdf12-f703-4777-9763-498676b74df3",
   "metadata": {},
   "outputs": [
    {
     "data": {
      "image/png": "[encoded data removed]",
      "text/plain": [
       "<Figure size 640x480 with 1 Axes>"
      ]
     },
     "metadata": {},
     "output_type": "display_data"
    }
   ],
   "source": [
    "hours = [hour for hour, df in all_data.groupby('Hour')]\n",
    "\n",
    "plt.plot(hours, all_data.groupby(['Hour']).count(),color='yellow')\n",
    "\n",
    "plt.xticks(hours)\n",
    "plt.xlabel(\"Hour of the Day\")\n",
    "plt.ylabel(\"Number of Orders\")\n",
    "plt.title(\"Best Time to Advertise for Maximum Sales\")\n",
    "plt.grid()\n",
    "plt.show()"
   ]
  },
  {
   "cell_type": "code",
   "execution_count": null,
   "id": "795ae5ea-9801-4402-8bb3-d7c577fa5df8",
   "metadata": {},
   "outputs": [],
   "source": []
  },
  {
   "cell_type": "code",
   "execution_count": 34,
   "id": "a463ecc9-454b-4cbe-858d-7db8325e93ec",
   "metadata": {},
   "outputs": [],
   "source": [
    "df = all_data[all_data['Order ID'].duplicated(keep=False)]\n",
    "\n",
    "df['Grouped'] = df.groupby('Order ID')['Product'].transform(lambda x: ','.join(x))\n",
    "\n",
    "# Drop duplicates so each Order ID appears once\n",
    "df = df[['Order ID', 'Grouped']].drop_duplicates()\n",
    "\n",
    "#df.head()\n",
    "\n"
   ]
  },
  {
   "cell_type": "code",
   "execution_count": 35,
   "id": "b9a41ea2-6154-4da8-bbde-3e78cbf9841e",
   "metadata": {},
   "outputs": [
    {
     "name": "stdout",
     "output_type": "stream",
     "text": [
      "('Lightning Charging Cable', 'iPhone') 1011\n",
      "('USB-C Charging Cable', 'Google Phone') 997\n",
      "('Wired Headphones', 'iPhone') 462\n",
      "('Wired Headphones', 'Google Phone') 398\n",
      "('Apple Airpods Headphones', 'iPhone') 373\n",
      "('USB-C Charging Cable', 'Vareebadd Phone') 368\n",
      "('Bose SoundSport Headphones', 'Google Phone') 228\n",
      "('USB-C Charging Cable', 'Wired Headphones') 203\n",
      "('Wired Headphones', 'Vareebadd Phone') 149\n",
      "('Wired Headphones', 'Lightning Charging Cable') 129\n"
     ]
    }
   ],
   "source": [
    "from itertools import combinations\n",
    "from collections import Counter\n",
    "\n",
    "count=Counter()\n",
    "for row in df['Grouped']:\n",
    "    products = row.split(',')\n",
    "    products = list(set(products))  #  remove duplicates from same order\n",
    "\n",
    "    count.update(Counter(combinations(products, 2)))\n",
    "\n",
    "#Top 10 most common pairs\n",
    "for key,value in count.most_common(10):\n",
    "   print(key,value)"
   ]
  },
  {
   "cell_type": "code",
   "execution_count": null,
   "id": "993455bb-4423-4fa9-9d53-53e4303d12f0",
   "metadata": {},
   "outputs": [],
   "source": []
  },
  {
   "cell_type": "code",
   "execution_count": null,
   "id": "e1bf464f-8a47-4013-b0b3-27e7a9feb474",
   "metadata": {},
   "outputs": [],
   "source": [
    "\n"
   ]
  },
  {
   "cell_type": "code",
   "execution_count": null,
   "id": "fa71db22-ca0b-41d0-bab6-a9f31040a0c5",
   "metadata": {},
   "outputs": [],
   "source": []
  },
  {
   "cell_type": "code",
   "execution_count": 38,
   "id": "e57fb6b9-2332-49c3-a1cc-75b33df1b5f4",
   "metadata": {},
   "outputs": [],
   "source": [
    "## Top Product: Best-Selling Products"
   ]
  },
  {
   "cell_type": "code",
   "execution_count": null,
   "id": "be6ce572-1d15-470d-9b59-9e54d9f5b29d",
   "metadata": {},
   "outputs": [],
   "source": []
  },
  {
   "cell_type": "code",
   "execution_count": 39,
   "id": "8bfdee10-eaac-41f5-9f85-6115a0824203",
   "metadata": {},
   "outputs": [
    {
     "data": {
      "image/png": "[encoded data removed]",
      "text/plain": [
       "<Figure size 640x480 with 1 Axes>"
      ]
     },
     "metadata": {},
     "output_type": "display_data"
    }
   ],
   "source": [
    "product_group=all_data.groupby('Product')\n",
    "quantity_ordered = product_group.sum(numeric_only=True)['Quantity Ordered']\n",
    "products=[product for product,df in product_group]\n",
    "\n",
    "\n",
    "colors = [\"red\", \"blue\", \"green\", \"purple\", \"orange\", \"cyan\", \"magenta\", \"yellow\", \"pink\",\n",
    "          \"brown\", \"gray\", \"lime\", \"teal\", \"navy\", \"maroon\", \"olive\", \"coral\", \"gold\", \"silver\"]\n",
    "plt.bar(products,quantity_ordered,color=colors)\n",
    "plt.xlabel(\"Products\")\n",
    "plt.ylabel(\"Quantity Ordered\")\n",
    "plt.xticks(products,rotation='vertical' ,size=8)\n",
    "\n",
    "plt.show()"
   ]
  },
  {
   "cell_type": "code",
   "execution_count": 40,
   "id": "ac7b732d-dbec-47f5-942c-6ef6e86a8ee8",
   "metadata": {},
   "outputs": [],
   "source": [
    "all_data['Price Each'] = pd.to_numeric(all_data['Price Each'], errors='coerce')\n",
    "\n",
    "all_data.dropna(subset=['Price Each'], inplace=True)\n",
    "#print(all_data['Price Each'].head(100))"
   ]
  },
  {
   "cell_type": "code",
   "execution_count": null,
   "id": "7b29472a-44a6-4e9a-aa5c-4d35e6cfbd97",
   "metadata": {},
   "outputs": [],
   "source": [
    "\n"
   ]
  },
  {
   "cell_type": "code",
   "execution_count": null,
   "id": "df9a5ac0-fd45-4337-a82d-413c26f30294",
   "metadata": {},
   "outputs": [],
   "source": [
    "#Objective: Compare product demand (Quantity Ordered) with their average prices to identify high-selling vs high-priced items."
   ]
  },
  {
   "cell_type": "code",
   "execution_count": 42,
   "id": "619f09e5-8caf-486c-817e-fef6d99a61fb",
   "metadata": {},
   "outputs": [
    {
     "data": {
      "image/png": "[encoded data removed]",
      "text/plain": [
       "<Figure size 1000x600 with 2 Axes>"
      ]
     },
     "metadata": {},
     "output_type": "display_data"
    }
   ],
   "source": [
    "prices = all_data.groupby('Product').mean(numeric_only=True)['Price Each']\n",
    "\n",
    "fig, ax1 = plt.subplots(figsize=(10, 6))\n",
    "colors = [\"red\", \"blue\", \"green\", \"purple\", \"orange\", \"cyan\", \"magenta\", \"yellow\", \"pink\",\n",
    "          \"brown\", \"gray\", \"lime\", \"teal\", \"navy\", \"maroon\", \"olive\", \"coral\", \"gold\", \"silver\"]\n",
    "ax2 = ax1.twinx()\n",
    "ax1.bar(range(len(products)), quantity_ordered, color=colors)\n",
    "ax2.plot(range(len(products)), prices, color='b')\n",
    "\n",
    "plt.title(\"Quantity Ordered vs Product with Price Overlay\", fontsize=14, fontweight='bold')\n",
    "\n",
    "ax1.set_xlabel('Product Name')\n",
    "ax1.set_ylabel('Quantity Ordered', color='g')\n",
    "ax2.set_ylabel('Price ($)', color='b')\n",
    "ax1.set_xticks(range(len(products)))\n",
    "ax1.set_xticklabels(products, rotation='vertical', size=8)\n",
    "\n",
    "plt.show()\n"
   ]
  },
  {
   "cell_type": "code",
   "execution_count": null,
   "id": "1938bfcf-766a-44b7-b15e-50ea29b17e08",
   "metadata": {},
   "outputs": [],
   "source": []
  },
  {
   "cell_type": "code",
   "execution_count": null,
   "id": "68c363cf-ebe0-4049-98ad-5a3aae8df2d4",
   "metadata": {},
   "outputs": [],
   "source": []
  },
  {
   "cell_type": "code",
   "execution_count": null,
   "id": "a7d5fd21-1482-433a-8e78-1ee557428674",
   "metadata": {},
   "outputs": [],
   "source": []
  },
  {
   "cell_type": "code",
   "execution_count": null,
   "id": "f7428a43-3f28-4828-be63-4e51bcdce626",
   "metadata": {},
   "outputs": [],
   "source": []
  },
  {
   "cell_type": "code",
   "execution_count": null,
   "id": "a86b67ae-d759-49a7-94ef-9aa318a41034",
   "metadata": {},
   "outputs": [],
   "source": []
  },
  {
   "cell_type": "code",
   "execution_count": null,
   "id": "5c8c24d2-6785-4085-97b1-8bd271efd22d",
   "metadata": {},
   "outputs": [],
   "source": []
  }
 ],
 "metadata": {
  "kernelspec": {
   "display_name": "Python 3 (ipykernel)",
   "language": "python",
   "name": "python3"
  },
  "language_info": {
   "codemirror_mode": {
    "name": "ipython",
    "version": 3
   },
   "file_extension": ".py",
   "mimetype": "text/x-python",
   "name": "python",
   "nbconvert_exporter": "python",
   "pygments_lexer": "ipython3",
   "version": "3.13.5"
  }
 },
 "nbformat": 4,
 "nbformat_minor": 5
}
